{
 "cells": [
  {
   "cell_type": "code",
   "execution_count": 1,
   "metadata": {},
   "outputs": [],
   "source": [
    "import random\n",
    "from numpy.random import choice"
   ]
  },
  {
   "cell_type": "code",
   "execution_count": 2,
   "metadata": {},
   "outputs": [],
   "source": [
    "#dictionary of action and corresponding counter, also includes 'Quit' and an index\n",
    "weakness = {'Rock':('Paper', 0), 'Paper':('Scissors', 1), 'Scissors':('Rock', 2), 'Quit':1}\n",
    "#list for numpy.random.choice to select from\n",
    "actions = ['Rock', 'Paper', 'Scissors']"
   ]
  },
  {
   "cell_type": "code",
   "execution_count": 3,
   "metadata": {},
   "outputs": [],
   "source": [
    "#get valid user input\n",
    "def getChoice():\n",
    "    while True:\n",
    "        userInput = raw_input(\"\\nEnter Rock, Paper, Scissors, or Quit\\n\").capitalize()\n",
    "        if userInput not in weakness:\n",
    "            print(\"Enter valid input\")\n",
    "        else:\n",
    "            return userInput"
   ]
  },
  {
   "cell_type": "code",
   "execution_count": 4,
   "metadata": {},
   "outputs": [],
   "source": [
    "#compare user and computer action\n",
    "def compare(playerChoice, computerChoice):\n",
    "    if weakness[playerChoice][0] == computerChoice:\n",
    "        return 'Computer Wins!'\n",
    "    elif weakness[computerChoice][0] == playerChoice:\n",
    "        return 'Player Wins!'\n",
    "    else:\n",
    "        return \"Tie!\""
   ]
  },
  {
   "cell_type": "code",
   "execution_count": 7,
   "metadata": {},
   "outputs": [],
   "source": [
    "def game():\n",
    "    #player wins, computer wins\n",
    "    wins = [0, 0]\n",
    "    \n",
    "    #number of respective rock, paper, and scissors selection from player\n",
    "    choiceCount = [0, 0, 0]\n",
    "    \n",
    "    print \"Let's play a game!\"\n",
    "    while True:\n",
    "        playerChoice = getChoice()\n",
    "        #break if user entered 'Quit'\n",
    "        if weakness[playerChoice] == 1: break\n",
    "        \n",
    "        #record player choice in list    \n",
    "        choiceCount[weakness[playerChoice][1]] += 1\n",
    "\n",
    "        #random computer choice for first turn, else select weakness by player action probability\n",
    "        if sum(choiceCount) == 1:\n",
    "            computerChoice = choice(actions)\n",
    "        else:\n",
    "            probability = [count / float(sum(choiceCount)) for count in choiceCount]\n",
    "            computerChoice = weakness[choice(actions, 1, p = probability)[0]][0]\n",
    "        \n",
    "        #get round result and record in list\n",
    "        result = compare(playerChoice, computerChoice)\n",
    "        if (result == 'Player Wins!'):\n",
    "            wins[0] += 1\n",
    "        elif (result == 'Computer Wins!'):\n",
    "            wins[1] += 1\n",
    "        \n",
    "        #print game result\n",
    "        print \"\\nPlayer selected\", playerChoice\n",
    "        print \"Computer selected\", computerChoice\n",
    "        print(result)\n",
    "    \n",
    "    #upon quit, print game statistics\n",
    "    print \"Human wins:\", wins[0]\n",
    "    print \"Computer wins:\", wins[1]\n",
    "    print \"Number of games:\", sum(choiceCount)    "
   ]
  },
  {
   "cell_type": "code",
   "execution_count": 8,
   "metadata": {},
   "outputs": [
    {
     "name": "stdout",
     "output_type": "stream",
     "text": [
      "Let's play a game!\n",
      "\n",
      "Enter Rock, Paper, Scissors, or Quit\n",
      "gh\n",
      "Enter valid input\n",
      "\n",
      "Enter Rock, Paper, Scissors, or Quit\n",
      "rock\n",
      "\n",
      "Player selected Rock\n",
      "Computer selected Scissors\n",
      "Player Wins!\n",
      "\n",
      "Enter Rock, Paper, Scissors, or Quit\n",
      "rock\n",
      "\n",
      "Player selected Rock\n",
      "Computer selected Paper\n",
      "Computer Wins!\n",
      "\n",
      "Enter Rock, Paper, Scissors, or Quit\n",
      "paper\n",
      "\n",
      "Player selected Paper\n",
      "Computer selected Paper\n",
      "Tie!\n",
      "\n",
      "Enter Rock, Paper, Scissors, or Quit\n",
      "rock\n",
      "\n",
      "Player selected Rock\n",
      "Computer selected Paper\n",
      "Computer Wins!\n",
      "\n",
      "Enter Rock, Paper, Scissors, or Quit\n",
      "rock\n",
      "\n",
      "Player selected Rock\n",
      "Computer selected Scissors\n",
      "Player Wins!\n",
      "\n",
      "Enter Rock, Paper, Scissors, or Quit\n",
      "scissors\n",
      "\n",
      "Player selected Scissors\n",
      "Computer selected Paper\n",
      "Player Wins!\n",
      "\n",
      "Enter Rock, Paper, Scissors, or Quit\n",
      "scissors\n",
      "\n",
      "Player selected Scissors\n",
      "Computer selected Paper\n",
      "Player Wins!\n",
      "\n",
      "Enter Rock, Paper, Scissors, or Quit\n",
      "rock\n",
      "\n",
      "Player selected Rock\n",
      "Computer selected Rock\n",
      "Tie!\n",
      "\n",
      "Enter Rock, Paper, Scissors, or Quit\n",
      "paper\n",
      "\n",
      "Player selected Paper\n",
      "Computer selected Rock\n",
      "Player Wins!\n",
      "\n",
      "Enter Rock, Paper, Scissors, or Quit\n",
      "quit\n",
      "Human wins: 5\n",
      "Computer wins: 2\n",
      "Number of games: 9\n"
     ]
    }
   ],
   "source": [
    "game()"
   ]
  }
 ],
 "metadata": {
  "kernelspec": {
   "display_name": "Python 2",
   "language": "python",
   "name": "python2"
  },
  "language_info": {
   "codemirror_mode": {
    "name": "ipython",
    "version": 2
   },
   "file_extension": ".py",
   "mimetype": "text/x-python",
   "name": "python",
   "nbconvert_exporter": "python",
   "pygments_lexer": "ipython2",
   "version": "2.7.16"
  }
 },
 "nbformat": 4,
 "nbformat_minor": 2
}
