{
 "cells": [
  {
   "cell_type": "code",
   "execution_count": 29,
   "metadata": {},
   "outputs": [],
   "source": [
    "import random\n",
    "import sys\n",
    "from numpy.random import choice"
   ]
  },
  {
   "cell_type": "code",
   "execution_count": 30,
   "metadata": {},
   "outputs": [],
   "source": [
    "#list of valid user inputs\n",
    "choices = ['Quit', 'Rock', 'Paper', 'Scissors']\n",
    "\n",
    "#dictionary of choices with an index value\n",
    "choicesDict = {choices[1]:0, choices[2]:1, choices[3]:2}\n",
    "\n",
    "#dictionary of possible player/computer combinations\n",
    "results = {('Paper', 'Rock') : 'Player Wins!',\n",
    "           ('Paper', 'Scissors') : 'Computer Wins!',\n",
    "           ('Paper', 'Paper') : 'Tie',\n",
    "           ('Rock', 'Rock') : 'Tie',\n",
    "           ('Rock', 'Scissors') : 'Player Wins!',\n",
    "           ('Rock', 'Paper') : 'Computer Wins!',\n",
    "           ('Scissors', 'Rock') : 'Computer Wins!',\n",
    "           ('Scissors', 'Scissors') : 'Tie',\n",
    "           ('Scissors', 'Paper') : 'Player Wins!'}\n",
    "\n",
    "#dictionary of weaknesses\n",
    "weakness = {'Paper':'Scissors', 'Rock':'Paper', 'Scissors':'Rock'}"
   ]
  },
  {
   "cell_type": "code",
   "execution_count": 31,
   "metadata": {},
   "outputs": [],
   "source": [
    "#compare user/computer imput using results dictionary\n",
    "def compare(playerChoice, computerChoice):\n",
    "    return results[(playerChoice, computerChoice)]"
   ]
  },
  {
   "cell_type": "code",
   "execution_count": 32,
   "metadata": {},
   "outputs": [],
   "source": [
    "#loop for valid user input\n",
    "def getChoice():    \n",
    "    while True:\n",
    "        userInput = raw_input(\"\\nEnter Rock, Paper, Scissors, or Quit\\n\").capitalize()\n",
    "        if userInput not in choices:\n",
    "            print(\"Enter valid input\")\n",
    "        else:\n",
    "            return userInput"
   ]
  },
  {
   "cell_type": "code",
   "execution_count": 61,
   "metadata": {},
   "outputs": [],
   "source": [
    "def game():\n",
    "    humanWins = 0\n",
    "    computerWins = 0\n",
    "    rounds = 0\n",
    "    choiceCount = [0,0,0]\n",
    "\n",
    "    print(\"Let's play a game!\")\n",
    "    while True:\n",
    "        playerChoice = getChoice()\n",
    "        if playerChoice == 'Quit': break\n",
    "        choiceCount[choicesDict[playerChoice]] += 1\n",
    "        \n",
    "        if (rounds==0):\n",
    "            computerChoice = choices[random.randint(1,3)]\n",
    "        else:\n",
    "            probability = [count / float(rounds+1) for count in choiceCount]\n",
    "            computerChoice = weakness[choices[int(choice([1,2,3], 1, p = probability))]]\n",
    "        \n",
    "        result = compare(playerChoice, computerChoice)\n",
    "        print \"\\nPlayer selected\", playerChoice\n",
    "        print \"Computer selected\", computerChoice\n",
    "        print(result)\n",
    "        \n",
    "        if (result == 'Player Wins!'): humanWins += 1\n",
    "        if (result == 'Computer Wins!'): computerWins +=1\n",
    "        rounds += 1    \n",
    "    \n",
    "    print \"Human wins:\", humanWins\n",
    "    print \"Computer wins:\", computerWins\n",
    "    print \"Number of games:\", rounds\n",
    "    print choiceCount"
   ]
  },
  {
   "cell_type": "code",
   "execution_count": null,
   "metadata": {},
   "outputs": [
    {
     "name": "stdout",
     "output_type": "stream",
     "text": [
      "Let's play a game!\n",
      "\n",
      "Enter Rock, Paper, Scissors, or Quit\n",
      "rock\n",
      "\n",
      "Player selected Rock\n",
      "Computer selected Rock\n",
      "Tie\n",
      "\n",
      "Enter Rock, Paper, Scissors, or Quit\n",
      "paper\n",
      "\n",
      "Player selected Paper\n",
      "Computer selected Scissors\n",
      "Computer Wins!\n",
      "\n",
      "Enter Rock, Paper, Scissors, or Quit\n",
      "paper\n",
      "\n",
      "Player selected Paper\n",
      "Computer selected Scissors\n",
      "Computer Wins!\n",
      "\n",
      "Enter Rock, Paper, Scissors, or Quit\n",
      "paper\n",
      "\n",
      "Player selected Paper\n",
      "Computer selected Scissors\n",
      "Computer Wins!\n",
      "\n",
      "Enter Rock, Paper, Scissors, or Quit\n",
      "paper\n",
      "\n",
      "Player selected Paper\n",
      "Computer selected Scissors\n",
      "Computer Wins!\n",
      "\n",
      "Enter Rock, Paper, Scissors, or Quit\n",
      "rock\n",
      "\n",
      "Player selected Rock\n",
      "Computer selected Scissors\n",
      "Player Wins!\n",
      "\n",
      "Enter Rock, Paper, Scissors, or Quit\n",
      "rock\n",
      "\n",
      "Player selected Rock\n",
      "Computer selected Paper\n",
      "Computer Wins!\n",
      "\n",
      "Enter Rock, Paper, Scissors, or Quit\n",
      "rock\n",
      "\n",
      "Player selected Rock\n",
      "Computer selected Paper\n",
      "Computer Wins!\n",
      "\n",
      "Enter Rock, Paper, Scissors, or Quit\n",
      "rock\n",
      "\n",
      "Player selected Rock\n",
      "Computer selected Scissors\n",
      "Player Wins!\n"
     ]
    }
   ],
   "source": [
    "game()"
   ]
  },
  {
   "cell_type": "code",
   "execution_count": null,
   "metadata": {},
   "outputs": [],
   "source": []
  }
 ],
 "metadata": {
  "kernelspec": {
   "display_name": "Python 2",
   "language": "python",
   "name": "python2"
  },
  "language_info": {
   "codemirror_mode": {
    "name": "ipython",
    "version": 2
   },
   "file_extension": ".py",
   "mimetype": "text/x-python",
   "name": "python",
   "nbconvert_exporter": "python",
   "pygments_lexer": "ipython2",
   "version": "2.7.16"
  }
 },
 "nbformat": 4,
 "nbformat_minor": 2
}
