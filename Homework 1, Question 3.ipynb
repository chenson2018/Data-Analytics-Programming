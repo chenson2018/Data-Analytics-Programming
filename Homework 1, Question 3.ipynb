{
 "cells": [
  {
   "cell_type": "code",
   "execution_count": 8,
   "metadata": {},
   "outputs": [],
   "source": [
    "import re\n",
    "from collections import Counter\n",
    "\n",
    "fp = open(\"quotes.txt\", \"r\")\n",
    "file = fp.readlines()"
   ]
  },
  {
   "cell_type": "code",
   "execution_count": 2,
   "metadata": {},
   "outputs": [
    {
     "name": "stdout",
     "output_type": "stream",
     "text": [
      "How we spend our days is, of course, how we spend our lives. - Annie Dillard\n"
     ]
    }
   ],
   "source": [
    "#strip line breaks\n",
    "removeBreak = [line[:-1] for line in file]\n",
    "#combine quote and name (answer to part a)\n",
    "quotes = [removeBreak[2*i] + \" - \" + removeBreak[2*i+1] for i in range(len(removeBreak)/2)]\n",
    "print quotes[0]"
   ]
  },
  {
   "cell_type": "code",
   "execution_count": 5,
   "metadata": {},
   "outputs": [
    {
     "name": "stdout",
     "output_type": "stream",
     "text": [
      "['the', 'heart', 'has', 'its', 'reasons', 'of', 'which', 'the', 'mind', 'knows', 'nothing', 'blaise', 'pascal']\n"
     ]
    }
   ],
   "source": [
    "#answer to part b\n",
    "#split_words contains the split quotes provided, below is a function to take a general quote\n",
    "def splitQuote(quote):\n",
    "    quote = quote.lower()\n",
    "    quote = re.sub(\"[`]\", '', quote)\n",
    "    quote = re.split('\\s+', re.sub('[^\\w]', ' ', quote))\n",
    "    return quote\n",
    "\n",
    "split_words = map(splitQuote, quotes)\n",
    "print split_words[6]"
   ]
  },
  {
   "cell_type": "code",
   "execution_count": 15,
   "metadata": {},
   "outputs": [],
   "source": [
    "#part c, creat postings-list dictionary\n",
    "pld = {}\n",
    "for i in range(len(quotes)):\n",
    "    pld[quotes[i]] = dict(Counter(split_words[i]))"
   ]
  },
  {
   "cell_type": "code",
   "execution_count": 16,
   "metadata": {},
   "outputs": [
    {
     "data": {
      "text/plain": [
       "{'blaise': 1,\n",
       " 'has': 1,\n",
       " 'heart': 1,\n",
       " 'its': 1,\n",
       " 'knows': 1,\n",
       " 'mind': 1,\n",
       " 'nothing': 1,\n",
       " 'of': 1,\n",
       " 'pascal': 1,\n",
       " 'reasons': 1,\n",
       " 'the': 2,\n",
       " 'which': 1}"
      ]
     },
     "execution_count": 16,
     "metadata": {},
     "output_type": "execute_result"
    }
   ],
   "source": [
    "pld[\"The heart has its reasons, of which the mind knows nothing. - Blaise Pascal\"]"
   ]
  },
  {
   "cell_type": "code",
   "execution_count": 17,
   "metadata": {},
   "outputs": [],
   "source": [
    "#part d\n",
    "\n",
    "#create a list of all words that appear in quotes.txt\n",
    "allWords = [dicts.keys() for dicts in pld.values()]\n",
    "allWords = list(set().union(*allWords))\n",
    "dictionary = sorted(allWords)"
   ]
  },
  {
   "cell_type": "code",
   "execution_count": 27,
   "metadata": {},
   "outputs": [],
   "source": [
    "#populate the keys of reverse postings-list dictionary with all possible words\n",
    "rpld = {}\n",
    "for entry in dictionary: rpld[entry] = {}"
   ]
  },
  {
   "cell_type": "code",
   "execution_count": 34,
   "metadata": {},
   "outputs": [
    {
     "name": "stdout",
     "output_type": "stream",
     "text": [
      "{'An actor is at most a poet and at least an entertainer. - Marlon Brando': 1}\n"
     ]
    }
   ],
   "source": [
    "#populate values of rpld with a dictionary of quotes in which the keyword appears\n",
    "for words in dictionary:\n",
    "    for key, value in pld.iteritems():\n",
    "        if words in value:\n",
    "            tempdict = {key : value[words]}\n",
    "            rpld[words].update( {key:value[words]})\n",
    "\n",
    "#example\n",
    "print rpld['entertainer']"
   ]
  },
  {
   "cell_type": "code",
   "execution_count": 55,
   "metadata": {},
   "outputs": [],
   "source": [
    "#part e, create TF-IDF function\n",
    "import math\n",
    "def TFIDF(fullQuote, word):\n",
    "    word = word.lower() \n",
    "    try:\n",
    "        tf = float(pld[fullQuote][word]) / max(pld[fullQuote].values())\n",
    "        idf = math.log10(len(pld)/float(len(rpld[word].keys())))\n",
    "        tfidf = tf * idf\n",
    "        return tfidf\n",
    "    except KeyError:\n",
    "        return 0"
   ]
  },
  {
   "cell_type": "code",
   "execution_count": 56,
   "metadata": {},
   "outputs": [
    {
     "data": {
      "text/plain": [
       "1.4737168609435254"
      ]
     },
     "execution_count": 56,
     "metadata": {},
     "output_type": "execute_result"
    }
   ],
   "source": [
    "TFIDF('An actor is at most a poet and at least an entertainer. - Marlon Brando', 'entertainer')"
   ]
  },
  {
   "cell_type": "code",
   "execution_count": 57,
   "metadata": {},
   "outputs": [],
   "source": [
    "#part f, function takes a word and returns TF-IDF score of each quote containing the word\n",
    "def singleWord(word):\n",
    "    returnDict = {}\n",
    "    matches = list(rpld[word])\n",
    "    for quote in matches:\n",
    "        returnDict[quote] = TFIDF(quote, word)\n",
    "    return returnDict"
   ]
  },
  {
   "cell_type": "code",
   "execution_count": 58,
   "metadata": {},
   "outputs": [
    {
     "data": {
      "text/plain": [
       "{'An actor is at most a poet and at least an entertainer. - Marlon Brando': 1.235156233583694,\n",
       " 'Never confuse the size of your paycheck with the size of your talent. - Marlon Brando': 1.235156233583694,\n",
       " 'To grasp the full significance of life is the actor`s duty, to interpret it is his problem and to express it his dedication. - Marlon Brando': 0.8234374890557961}"
      ]
     },
     "execution_count": 58,
     "metadata": {},
     "output_type": "execute_result"
    }
   ],
   "source": [
    "singleWord('marlon')"
   ]
  },
  {
   "cell_type": "code",
   "execution_count": 44,
   "metadata": {},
   "outputs": [],
   "source": [
    "#part g, function takes a list of words and returns the TF-IDF score for every quote with at least one match\n",
    "def multWord(wordList):\n",
    "    matches={}\n",
    "    for words in wordList:\n",
    "        matches.update(rpld[words])\n",
    "    matches = list(matches) \n",
    "    \n",
    "    returnDict = {}\n",
    "    for quote in matches:\n",
    "        value = 0\n",
    "        for words in wordList:\n",
    "            value += TFIDF(quote, words)\n",
    "        returnDict[quote] = value\n",
    "    print returnDict    "
   ]
  },
  {
   "cell_type": "code",
   "execution_count": 62,
   "metadata": {},
   "outputs": [
    {
     "name": "stdout",
     "output_type": "stream",
     "text": [
      "{'The movie`s director is the pilot. It`s his vision. For an actor, the time to worry about flying is when you`re on the ground. If you don`t want to fly with the director, don`t get on the plane. - Denzel Washington': 0.4410672877038449, 'An actor is at most a poet and at least an entertainer. - Marlon Brando': 2.79691872405506, 'Film lovers are sick people. - Francois Truffaut': 2.9474337218870508}\n"
     ]
    }
   ],
   "source": [
    "multWord(['entertainer', 'actor', 'film'])"
   ]
  }
 ],
 "metadata": {
  "kernelspec": {
   "display_name": "Python 2",
   "language": "python",
   "name": "python2"
  },
  "language_info": {
   "codemirror_mode": {
    "name": "ipython",
    "version": 2
   },
   "file_extension": ".py",
   "mimetype": "text/x-python",
   "name": "python",
   "nbconvert_exporter": "python",
   "pygments_lexer": "ipython2",
   "version": "2.7.16"
  }
 },
 "nbformat": 4,
 "nbformat_minor": 2
}
