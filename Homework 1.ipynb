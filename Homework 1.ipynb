{
 "cells": [
  {
   "cell_type": "markdown",
   "metadata": {},
   "source": [
    "Question 1"
   ]
  },
  {
   "cell_type": "code",
   "execution_count": 1,
   "metadata": {},
   "outputs": [],
   "source": [
    "import random\n",
    "from numpy.random import choice"
   ]
  },
  {
   "cell_type": "code",
   "execution_count": 2,
   "metadata": {},
   "outputs": [],
   "source": [
    "#dictionary of action and corresponding counter, also includes 'Quit' and an index\n",
    "weakness = {'Rock':('Paper', 0), 'Paper':('Scissors', 1), 'Scissors':('Rock', 2), 'Quit':1}\n",
    "#list for numpy.random.choice to select from\n",
    "actions = ['Rock', 'Paper', 'Scissors']"
   ]
  },
  {
   "cell_type": "code",
   "execution_count": 3,
   "metadata": {},
   "outputs": [],
   "source": [
    "#get valid user input\n",
    "def getChoice():\n",
    "    while True:\n",
    "        userInput = raw_input(\"\\nEnter Rock, Paper, Scissors, or Quit\\n\").capitalize()\n",
    "        if userInput not in weakness:\n",
    "            print(\"Enter valid input\")\n",
    "        else:\n",
    "            return userInput"
   ]
  },
  {
   "cell_type": "code",
   "execution_count": 4,
   "metadata": {},
   "outputs": [],
   "source": [
    "#compare user and computer action\n",
    "def compare(playerChoice, computerChoice):\n",
    "    if weakness[playerChoice][0] == computerChoice:\n",
    "        return 'Computer Wins!'\n",
    "    elif weakness[computerChoice][0] == playerChoice:\n",
    "        return 'Player Wins!'\n",
    "    else:\n",
    "        return \"Tie!\""
   ]
  },
  {
   "cell_type": "code",
   "execution_count": 5,
   "metadata": {},
   "outputs": [],
   "source": [
    "def game():\n",
    "    #player wins, computer wins\n",
    "    wins = [0, 0]\n",
    "    \n",
    "    #number of respective rock, paper, and scissors selection from player\n",
    "    choiceCount = [0, 0, 0]\n",
    "    \n",
    "    print \"Let's play a game!\"\n",
    "    while True:\n",
    "        playerChoice = getChoice()\n",
    "        #break if user entered 'Quit'\n",
    "        if weakness[playerChoice] == 1: break\n",
    "        \n",
    "        #record player choice in list    \n",
    "        choiceCount[weakness[playerChoice][1]] += 1\n",
    "\n",
    "        #random computer choice for first turn, else select weakness by player action probability\n",
    "        if sum(choiceCount) == 1:\n",
    "            computerChoice = choice(actions)\n",
    "        else:\n",
    "            probability = [count / float(sum(choiceCount)) for count in choiceCount]\n",
    "            computerChoice = weakness[choice(actions, 1, p = probability)[0]][0]\n",
    "        \n",
    "        #get round result and record in list\n",
    "        result = compare(playerChoice, computerChoice)\n",
    "        if (result == 'Player Wins!'):\n",
    "            wins[0] += 1\n",
    "        elif (result == 'Computer Wins!'):\n",
    "            wins[1] += 1\n",
    "        \n",
    "        #print game result\n",
    "        print \"\\nPlayer selected\", playerChoice\n",
    "        print \"Computer selected\", computerChoice\n",
    "        print(result)\n",
    "    \n",
    "    #upon quit, print game statistics\n",
    "    print \"Human wins:\", wins[0]\n",
    "    print \"Computer wins:\", wins[1]\n",
    "    print \"Number of games:\", sum(choiceCount) "
   ]
  },
  {
   "cell_type": "code",
   "execution_count": 6,
   "metadata": {},
   "outputs": [
    {
     "name": "stdout",
     "output_type": "stream",
     "text": [
      "Let's play a game!\n",
      "\n",
      "Enter Rock, Paper, Scissors, or Quit\n",
      "notvalid\n",
      "Enter valid input\n",
      "\n",
      "Enter Rock, Paper, Scissors, or Quit\n",
      "rock\n",
      "\n",
      "Player selected Rock\n",
      "Computer selected Rock\n",
      "Tie!\n",
      "\n",
      "Enter Rock, Paper, Scissors, or Quit\n",
      "rock\n",
      "\n",
      "Player selected Rock\n",
      "Computer selected Paper\n",
      "Computer Wins!\n",
      "\n",
      "Enter Rock, Paper, Scissors, or Quit\n",
      "paper\n",
      "\n",
      "Player selected Paper\n",
      "Computer selected Paper\n",
      "Tie!\n",
      "\n",
      "Enter Rock, Paper, Scissors, or Quit\n",
      "quit\n",
      "Human wins: 0\n",
      "Computer wins: 1\n",
      "Number of games: 3\n"
     ]
    }
   ],
   "source": [
    "game()"
   ]
  },
  {
   "cell_type": "markdown",
   "metadata": {},
   "source": [
    "Question 2"
   ]
  },
  {
   "cell_type": "code",
   "execution_count": 7,
   "metadata": {},
   "outputs": [],
   "source": [
    "import re\n",
    "#read file, using .strip to remove line breaks\n",
    "with open('FloridaVoters.html', 'r') as f:\n",
    "    lines = [line.strip() for line in f]"
   ]
  },
  {
   "cell_type": "code",
   "execution_count": 8,
   "metadata": {},
   "outputs": [],
   "source": [
    "from functools import partial\n",
    "#function to search for table lines using regular expressions\n",
    "tableMatch = partial(re.match, '<td>')"
   ]
  },
  {
   "cell_type": "code",
   "execution_count": 9,
   "metadata": {},
   "outputs": [],
   "source": [
    "table = filter(tableMatch, lines)"
   ]
  },
  {
   "cell_type": "code",
   "execution_count": 10,
   "metadata": {},
   "outputs": [],
   "source": [
    "#replace html table marker and commas on each line\n",
    "table = [line.replace('<td>', '') for line in table]\n",
    "table = [line.replace('</td>', '') for line in table]\n",
    "table = [line.replace(',', '') for line in table]"
   ]
  },
  {
   "cell_type": "code",
   "execution_count": 11,
   "metadata": {},
   "outputs": [],
   "source": [
    "#get relevant columns from table\n",
    "firstThreeColumns = []\n",
    "for i in range((len(table)/6)):\n",
    "    firstThreeColumns.append((table[6*i], int(table[6*i+1]), int(table[6*i+2])))"
   ]
  },
  {
   "cell_type": "code",
   "execution_count": 12,
   "metadata": {},
   "outputs": [
    {
     "data": {
      "text/plain": [
       "[('LAFAYETTE', 1373, 2672),\n",
       " ('GLADES', 2190, 3110),\n",
       " ('LIBERTY', 720, 3372),\n",
       " ('UNION', 2752, 3579),\n",
       " ('GILCHRIST', 5789, 3652),\n",
       " ('FRANKLIN', 2234, 4319),\n",
       " ('HOLMES', 5282, 4434),\n",
       " ('GULF', 4234, 4521),\n",
       " ('HARDEE', 4859, 4702),\n",
       " ('HAMILTON', 2154, 4796),\n",
       " ('DIXIE', 3314, 4839),\n",
       " ('CALHOUN', 2201, 5324),\n",
       " ('WASHINGTON', 7101, 5687),\n",
       " ('JEFFERSON', 2636, 5802),\n",
       " ('BAKER', 6963, 5813),\n",
       " ('BRADFORD', 6878, 6533),\n",
       " ('TAYLOR', 3950, 6915),\n",
       " ('MADISON', 2992, 7158),\n",
       " ('DESOTO', 4870, 7181),\n",
       " ('OKEECHOBEE', 7755, 7756),\n",
       " ('HENDRY', 5862, 7999),\n",
       " ('WAKULLA', 7374, 8889),\n",
       " ('LEVY', 11665, 9509),\n",
       " ('WALTON', 25609, 10013),\n",
       " ('SUWANNEE', 10745, 11126),\n",
       " ('NASSAU', 32958, 14013),\n",
       " ('COLUMBIA', 15790, 14797),\n",
       " ('JACKSON', 9626, 15706),\n",
       " ('MONROE', 20602, 17614),\n",
       " ('HIGHLANDS', 27100, 19997),\n",
       " ('PUTNAM', 17067, 20606),\n",
       " ('GADSDEN', 4372, 22161),\n",
       " ('SUMTER', 47158, 22977),\n",
       " ('FLAGLER', 30047, 24734),\n",
       " ('OKALOOSA', 75154, 25172),\n",
       " ('SANTA ROSA', 73627, 26114),\n",
       " ('MARTIN', 53800, 27358),\n",
       " ('INDIAN RIVER', 47794, 28204),\n",
       " ('CITRUS', 46373, 30440),\n",
       " ('BAY', 57456, 30733),\n",
       " ('CLAY', 76584, 31285),\n",
       " ('CHARLOTTE', 54421, 35602),\n",
       " ('ST. JOHNS', 88385, 39531),\n",
       " ('HERNANDO', 51254, 42499),\n",
       " ('COLLIER', 100167, 45511),\n",
       " ('LAKE', 93604, 67237),\n",
       " ('MANATEE', 96063, 67926),\n",
       " ('ESCAMBIA', 90265, 70180),\n",
       " ('OSCEOLA', 44594, 75657),\n",
       " ('ST. LUCIE', 59626, 76163),\n",
       " ('MARION', 97306, 76268),\n",
       " ('ALACHUA', 47329, 77996),\n",
       " ('SARASOTA', 125872, 89711),\n",
       " ('SEMINOLE', 107833, 91686),\n",
       " ('LEON', 54554, 103140),\n",
       " ('PASCO', 125305, 104324),\n",
       " ('LEE', 180718, 114633),\n",
       " ('VOLUSIA', 121402, 124136),\n",
       " ('BREVARD', 167129, 127435),\n",
       " ('POLK', 140619, 143799),\n",
       " ('PINELLAS', 223077, 221968),\n",
       " ('DUVAL', 210195, 229501),\n",
       " ('ORANGE', 206174, 303458),\n",
       " ('HILLSBOROUGH', 257436, 314265),\n",
       " ('PALM BEACH', 245452, 367236),\n",
       " ('MIAMI-DADE', 362161, 539367),\n",
       " ('BROWARD', 249762, 566185),\n",
       " ('Total', 4377713, 4637026)]"
      ]
     },
     "execution_count": 12,
     "metadata": {},
     "output_type": "execute_result"
    }
   ],
   "source": [
    "from operator import itemgetter\n",
    "#sort by Democratic voters \n",
    "sortDemocrat = sorted(firstThreeColumns, key=itemgetter(2))\n",
    "sortDemocrat"
   ]
  },
  {
   "cell_type": "markdown",
   "metadata": {},
   "source": [
    "Question 3"
   ]
  },
  {
   "cell_type": "markdown",
   "metadata": {},
   "source": [
    "a)"
   ]
  },
  {
   "cell_type": "code",
   "execution_count": 13,
   "metadata": {},
   "outputs": [],
   "source": [
    "import re\n",
    "from collections import Counter\n",
    "\n",
    "fp = open(\"quotes.txt\", \"r\")\n",
    "file = fp.readlines()"
   ]
  },
  {
   "cell_type": "code",
   "execution_count": 14,
   "metadata": {},
   "outputs": [
    {
     "name": "stdout",
     "output_type": "stream",
     "text": [
      "How we spend our days is, of course, how we spend our lives. - Annie Dillard\n"
     ]
    }
   ],
   "source": [
    "#strip line breaks\n",
    "removeBreak = [line[:-1] for line in file]\n",
    "#combine quote and name\n",
    "quotes = [removeBreak[2*i] + \" - \" + removeBreak[2*i+1] for i in range(len(removeBreak)/2)]\n",
    "print quotes[0]"
   ]
  },
  {
   "cell_type": "markdown",
   "metadata": {},
   "source": [
    "b)"
   ]
  },
  {
   "cell_type": "code",
   "execution_count": 15,
   "metadata": {},
   "outputs": [
    {
     "name": "stdout",
     "output_type": "stream",
     "text": [
      "['the', 'heart', 'has', 'its', 'reasons', 'of', 'which', 'the', 'mind', 'knows', 'nothing', 'blaise', 'pascal']\n"
     ]
    }
   ],
   "source": [
    "#split_words contains the split quotes provided, below is a function to take a general quote\n",
    "def splitQuote(quote):\n",
    "    quote = quote.lower()\n",
    "    quote = re.sub(\"[`]\", '', quote) \n",
    "    quote = re.split('\\s+', re.sub('[^\\w]', ' ', quote))\n",
    "    return quote\n",
    "\n",
    "split_words = map(splitQuote, quotes)\n",
    "print split_words[6]"
   ]
  },
  {
   "cell_type": "markdown",
   "metadata": {},
   "source": [
    "c)"
   ]
  },
  {
   "cell_type": "code",
   "execution_count": 16,
   "metadata": {},
   "outputs": [],
   "source": [
    "#creat postings-list dictionary\n",
    "pld = {}\n",
    "for i in range(len(quotes)):\n",
    "    pld[quotes[i]] = dict(Counter(split_words[i]))"
   ]
  },
  {
   "cell_type": "code",
   "execution_count": 17,
   "metadata": {},
   "outputs": [
    {
     "data": {
      "text/plain": [
       "{'blaise': 1,\n",
       " 'has': 1,\n",
       " 'heart': 1,\n",
       " 'its': 1,\n",
       " 'knows': 1,\n",
       " 'mind': 1,\n",
       " 'nothing': 1,\n",
       " 'of': 1,\n",
       " 'pascal': 1,\n",
       " 'reasons': 1,\n",
       " 'the': 2,\n",
       " 'which': 1}"
      ]
     },
     "execution_count": 17,
     "metadata": {},
     "output_type": "execute_result"
    }
   ],
   "source": [
    "pld[\"The heart has its reasons, of which the mind knows nothing. - Blaise Pascal\"]"
   ]
  },
  {
   "cell_type": "markdown",
   "metadata": {},
   "source": [
    "d)"
   ]
  },
  {
   "cell_type": "code",
   "execution_count": 18,
   "metadata": {},
   "outputs": [],
   "source": [
    "#create a list of all words that appear in quotes.txt\n",
    "allWords = [dicts.keys() for dicts in pld.values()]\n",
    "allWords = list(set().union(*allWords))\n",
    "dictionary = sorted(allWords)"
   ]
  },
  {
   "cell_type": "code",
   "execution_count": 19,
   "metadata": {},
   "outputs": [],
   "source": [
    "#populate the keys of reverse postings-list dictionary with all possible words\n",
    "rpld = {}\n",
    "for entry in dictionary: rpld[entry] = {}"
   ]
  },
  {
   "cell_type": "code",
   "execution_count": 20,
   "metadata": {},
   "outputs": [
    {
     "name": "stdout",
     "output_type": "stream",
     "text": [
      "{'An actor is at most a poet and at least an entertainer. - Marlon Brando': 1}\n"
     ]
    }
   ],
   "source": [
    "#populate values of rpld with a dictionary of quotes in which the keyword appears\n",
    "for words in dictionary:\n",
    "    for key, value in pld.iteritems():\n",
    "        if words in value:\n",
    "            tempdict = {key : value[words]}\n",
    "            rpld[words].update( {key:value[words]})\n",
    "\n",
    "#example\n",
    "print rpld['entertainer']"
   ]
  },
  {
   "cell_type": "markdown",
   "metadata": {},
   "source": [
    "e"
   ]
  },
  {
   "cell_type": "code",
   "execution_count": 21,
   "metadata": {},
   "outputs": [],
   "source": [
    "#create TF-IDF function\n",
    "import math\n",
    "def TFIDF(fullQuote, word):\n",
    "    word = word.lower() \n",
    "    try:\n",
    "        tf = float(pld[fullQuote][word]) / max(pld[fullQuote].values())\n",
    "        idf = math.log10(len(pld)/float(len(rpld[word].keys())))\n",
    "        tfidf = tf * idf\n",
    "        return tfidf\n",
    "    except KeyError:\n",
    "        return 0"
   ]
  },
  {
   "cell_type": "code",
   "execution_count": 22,
   "metadata": {},
   "outputs": [
    {
     "data": {
      "text/plain": [
       "1.4737168609435254"
      ]
     },
     "execution_count": 22,
     "metadata": {},
     "output_type": "execute_result"
    }
   ],
   "source": [
    "TFIDF('An actor is at most a poet and at least an entertainer. - Marlon Brando', 'entertainer')"
   ]
  },
  {
   "cell_type": "markdown",
   "metadata": {},
   "source": [
    "f)"
   ]
  },
  {
   "cell_type": "code",
   "execution_count": 23,
   "metadata": {},
   "outputs": [],
   "source": [
    "#function takes a word and returns TF-IDF score of each quote containing the word\n",
    "def singleWord(word):\n",
    "    returnDict = {}\n",
    "    matches = list(rpld[word])\n",
    "    for quote in matches:\n",
    "        returnDict[quote] = TFIDF(quote, word)\n",
    "    return returnDict"
   ]
  },
  {
   "cell_type": "code",
   "execution_count": 24,
   "metadata": {},
   "outputs": [
    {
     "data": {
      "text/plain": [
       "{'An actor is at most a poet and at least an entertainer. - Marlon Brando': 1.235156233583694,\n",
       " 'Never confuse the size of your paycheck with the size of your talent. - Marlon Brando': 1.235156233583694,\n",
       " 'To grasp the full significance of life is the actor`s duty, to interpret it is his problem and to express it his dedication. - Marlon Brando': 0.8234374890557961}"
      ]
     },
     "execution_count": 24,
     "metadata": {},
     "output_type": "execute_result"
    }
   ],
   "source": [
    "singleWord('marlon')"
   ]
  },
  {
   "cell_type": "markdown",
   "metadata": {},
   "source": [
    "g)"
   ]
  },
  {
   "cell_type": "code",
   "execution_count": 25,
   "metadata": {},
   "outputs": [],
   "source": [
    "#takes a list of words and returns the TF-IDF score for every quote with at least one match\n",
    "def multWord(wordList):\n",
    "    matches={}\n",
    "    for words in wordList:\n",
    "        matches.update(rpld[words])\n",
    "    matches = list(matches) \n",
    "    \n",
    "    returnDict = {}\n",
    "    for quote in matches:\n",
    "        value = 0\n",
    "        for words in wordList:\n",
    "            value += TFIDF(quote, words)\n",
    "        returnDict[quote] = value\n",
    "    print returnDict    "
   ]
  },
  {
   "cell_type": "code",
   "execution_count": 26,
   "metadata": {},
   "outputs": [
    {
     "name": "stdout",
     "output_type": "stream",
     "text": [
      "{'The movie`s director is the pilot. It`s his vision. For an actor, the time to worry about flying is when you`re on the ground. If you don`t want to fly with the director, don`t get on the plane. - Denzel Washington': 0.4410672877038449, 'An actor is at most a poet and at least an entertainer. - Marlon Brando': 2.79691872405506, 'Film lovers are sick people. - Francois Truffaut': 2.9474337218870508}\n"
     ]
    }
   ],
   "source": [
    "multWord(['entertainer', 'actor', 'film'])"
   ]
  }
 ],
 "metadata": {
  "kernelspec": {
   "display_name": "Python 2",
   "language": "python",
   "name": "python2"
  },
  "language_info": {
   "codemirror_mode": {
    "name": "ipython",
    "version": 2
   },
   "file_extension": ".py",
   "mimetype": "text/x-python",
   "name": "python",
   "nbconvert_exporter": "python",
   "pygments_lexer": "ipython2",
   "version": "2.7.16"
  }
 },
 "nbformat": 4,
 "nbformat_minor": 2
}
